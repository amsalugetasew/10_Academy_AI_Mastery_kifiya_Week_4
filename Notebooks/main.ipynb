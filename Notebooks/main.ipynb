{
 "cells": [
  {
   "cell_type": "code",
   "execution_count": 1,
   "metadata": {},
   "outputs": [],
   "source": [
    "%load_ext autoreload\n",
    "%autoreload 2\n",
    "import os\n",
    "import sys\n",
    "import logging\n",
    "sys.path.append(os.path.abspath('../Scripts'))\n",
    "sys.path.append(os.path.abspath('../src'))\n",
    "# Import moduls or Script files\n",
    "from data_loading import LoadData\n",
    "from logger_config import configure_logging\n",
    "from time_series_analysis import SalesAnalyzer\n",
    "from plot import Plot\n",
    "from eda import EDA"
   ]
  },
  {
   "cell_type": "code",
   "execution_count": 2,
   "metadata": {},
   "outputs": [
    {
     "name": "stderr",
     "output_type": "stream",
     "text": [
      "2025-01-02 14:37:53,305 - INFO - Initialized LoadData class.\n",
      "2025-01-02 14:37:53,307 - INFO - Initialized EDA class.\n",
      "2025-01-02 14:37:53,308 - INFO - Initialized Plot class.\n",
      "2025-01-02 14:37:53,309 - INFO - Initialized Seasonality Sales Analysis class.\n"
     ]
    }
   ],
   "source": [
    "# Configure logging\n",
    "configure_logging()\n",
    "\n",
    "# Use the class\n",
    "loader = LoadData()\n",
    "eda = EDA()\n",
    "plot = Plot()\n",
    "sales_behavior = SalesAnalyzer()\n"
   ]
  },
  {
   "cell_type": "code",
   "execution_count": 3,
   "metadata": {},
   "outputs": [
    {
     "name": "stderr",
     "output_type": "stream",
     "text": [
      "2025-01-02 14:37:57,194 - INFO - Starting to read data files.\n",
      "2025-01-02 14:37:58,126 - INFO - Successfully read all data files.\n",
      "2025-01-02 14:37:58,127 - INFO - Starting to merge training or testing data with store data.\n"
     ]
    },
    {
     "name": "stdout",
     "output_type": "stream",
     "text": [
      "Data loaded successfully.\n"
     ]
    },
    {
     "name": "stderr",
     "output_type": "stream",
     "text": [
      "2025-01-02 14:37:58,347 - INFO - Successfully merged training or testing data with store data.\n",
      "2025-01-02 14:37:58,349 - INFO - Starting to merge training or testing data with store data.\n",
      "2025-01-02 14:37:58,365 - INFO - Successfully merged training or testing data with store data.\n"
     ]
    },
    {
     "name": "stdout",
     "output_type": "stream",
     "text": [
      "Data merged successfully successfully.\n"
     ]
    }
   ],
   "source": [
    "try:\n",
    "    df_sample, df_store, df_test, df_train = loader.read_data()\n",
    "    print(\"Data loaded successfully.\")\n",
    "    # Merge sales and store data\n",
    "    train_merged_df = loader.merge_train_with_store(df_train, df_store)\n",
    "    test_merged_df = loader.merge_train_with_store(df_test, df_store)\n",
    "    print(\"Data merged successfully successfully.\")\n",
    "except Exception as e:\n",
    "    logging.critical(\"Error in data loading process.\", exc_info=True)"
   ]
  },
  {
   "cell_type": "code",
   "execution_count": 52,
   "metadata": {},
   "outputs": [
    {
     "name": "stderr",
     "output_type": "stream",
     "text": [
      "2025-01-02 10:43:41,346 - INFO - Starting to checking promotion distribution on training and test dataset.\n",
      "2025-01-02 10:43:41,352 - INFO - Successfully checking promotion distribution of training and testing of store data.\n"
     ]
    },
    {
     "name": "stdout",
     "output_type": "stream",
     "text": [
      "Promotion distribution in training set:\n",
      " - Promo: 38.15% active\n",
      " - Promo2: 50.06% active\n",
      "\n",
      "Promotion distribution in test set:\n",
      " - Promo: 39.58% active\n",
      " - Promo2: 58.06% active\n",
      "\n",
      "The Promo distribution between train and test sets is similar.\n",
      "The Promo2 distribution between train and test sets is significantly different.\n"
     ]
    }
   ],
   "source": [
    "eda.check_promotion_distribution(train_merged_df, test_merged_df)"
   ]
  },
  {
   "cell_type": "code",
   "execution_count": 53,
   "metadata": {},
   "outputs": [
    {
     "name": "stderr",
     "output_type": "stream",
     "text": [
      "2025-01-02 10:43:43,502 - INFO - Starting to ploting promotion distribution on training and test dataset.\n"
     ]
    },
    {
     "data": {
      "image/png": "[encoded data removed]",
      "text/plain": [
       "<Figure size 800x600 with 1 Axes>"
      ]
     },
     "metadata": {},
     "output_type": "display_data"
    },
    {
     "name": "stderr",
     "output_type": "stream",
     "text": [
      "2025-01-02 10:43:43,852 - INFO - Successfully Ploting promotion distribution of training and testing of store data.\n"
     ]
    }
   ],
   "source": [
    "plot.check_promotion_distribution_with_plot(train_merged_df, test_merged_df)"
   ]
  },
  {
   "cell_type": "code",
   "execution_count": 4,
   "metadata": {},
   "outputs": [
    {
     "data": {
      "text/html": [
       "<div>\n",
       "<style scoped>\n",
       "    .dataframe tbody tr th:only-of-type {\n",
       "        vertical-align: middle;\n",
       "    }\n",
       "\n",
       "    .dataframe tbody tr th {\n",
       "        vertical-align: top;\n",
       "    }\n",
       "\n",
       "    .dataframe thead th {\n",
       "        text-align: right;\n",
       "    }\n",
       "</style>\n",
       "<table border=\"1\" class=\"dataframe\">\n",
       "  <thead>\n",
       "    <tr style=\"text-align: right;\">\n",
       "      <th></th>\n",
       "      <th>Store</th>\n",
       "      <th>DayOfWeek</th>\n",
       "      <th>Date</th>\n",
       "      <th>Sales</th>\n",
       "      <th>Customers</th>\n",
       "      <th>Open</th>\n",
       "      <th>Promo</th>\n",
       "      <th>StateHoliday</th>\n",
       "      <th>SchoolHoliday</th>\n",
       "    </tr>\n",
       "  </thead>\n",
       "  <tbody>\n",
       "    <tr>\n",
       "      <th>0</th>\n",
       "      <td>1</td>\n",
       "      <td>5</td>\n",
       "      <td>2015-07-31</td>\n",
       "      <td>5263</td>\n",
       "      <td>555</td>\n",
       "      <td>1</td>\n",
       "      <td>1</td>\n",
       "      <td>0</td>\n",
       "      <td>1</td>\n",
       "    </tr>\n",
       "    <tr>\n",
       "      <th>1</th>\n",
       "      <td>2</td>\n",
       "      <td>5</td>\n",
       "      <td>2015-07-31</td>\n",
       "      <td>6064</td>\n",
       "      <td>625</td>\n",
       "      <td>1</td>\n",
       "      <td>1</td>\n",
       "      <td>0</td>\n",
       "      <td>1</td>\n",
       "    </tr>\n",
       "    <tr>\n",
       "      <th>2</th>\n",
       "      <td>3</td>\n",
       "      <td>5</td>\n",
       "      <td>2015-07-31</td>\n",
       "      <td>8314</td>\n",
       "      <td>821</td>\n",
       "      <td>1</td>\n",
       "      <td>1</td>\n",
       "      <td>0</td>\n",
       "      <td>1</td>\n",
       "    </tr>\n",
       "    <tr>\n",
       "      <th>3</th>\n",
       "      <td>4</td>\n",
       "      <td>5</td>\n",
       "      <td>2015-07-31</td>\n",
       "      <td>13995</td>\n",
       "      <td>1498</td>\n",
       "      <td>1</td>\n",
       "      <td>1</td>\n",
       "      <td>0</td>\n",
       "      <td>1</td>\n",
       "    </tr>\n",
       "    <tr>\n",
       "      <th>4</th>\n",
       "      <td>5</td>\n",
       "      <td>5</td>\n",
       "      <td>2015-07-31</td>\n",
       "      <td>4822</td>\n",
       "      <td>559</td>\n",
       "      <td>1</td>\n",
       "      <td>1</td>\n",
       "      <td>0</td>\n",
       "      <td>1</td>\n",
       "    </tr>\n",
       "  </tbody>\n",
       "</table>\n",
       "</div>"
      ],
      "text/plain": [
       "   Store  DayOfWeek        Date  Sales  Customers  Open  Promo StateHoliday  \\\n",
       "0      1          5  2015-07-31   5263        555     1      1            0   \n",
       "1      2          5  2015-07-31   6064        625     1      1            0   \n",
       "2      3          5  2015-07-31   8314        821     1      1            0   \n",
       "3      4          5  2015-07-31  13995       1498     1      1            0   \n",
       "4      5          5  2015-07-31   4822        559     1      1            0   \n",
       "\n",
       "   SchoolHoliday  \n",
       "0              1  \n",
       "1              1  \n",
       "2              1  \n",
       "3              1  \n",
       "4              1  "
      ]
     },
     "execution_count": 4,
     "metadata": {},
     "output_type": "execute_result"
    }
   ],
   "source": [
    "df_train.head()"
   ]
  },
  {
   "cell_type": "code",
   "execution_count": null,
   "metadata": {},
   "outputs": [
    {
     "name": "stderr",
     "output_type": "stream",
     "text": [
      "2025-01-02 14:38:12,950 - INFO - Starting to Holiday Sales analysis.\n"
     ]
    }
   ],
   "source": [
    "df_state, df_school = sales_behavior.tag_holiday_periods(df_train)"
   ]
  },
  {
   "cell_type": "code",
   "execution_count": 5,
   "metadata": {},
   "outputs": [
    {
     "name": "stdout",
     "output_type": "stream",
     "text": [
      "                       mean         sum  median\n",
      "HolidayPeriod                                  \n",
      "After Holiday   6874.590616   276186678  6707.0\n",
      "Before Holiday  5916.391317   205772090  6022.0\n",
      "During Holiday  1751.875201    63197146     0.0\n",
      "Normal          5879.653831  5328024709  5787.0\n"
     ]
    }
   ],
   "source": [
    "# Convert Date to datetime\n",
    "import pandas as pd\n",
    "df = df_train\n",
    "df[\"Date\"] = pd.to_datetime(df[\"Date\"])\n",
    "\n",
    "# Define holidays\n",
    "df[\"StateHoliday\"] = df[\"StateHoliday\"].replace({\"0\": None})\n",
    "holiday_dates = df.loc[df[\"StateHoliday\"].notnull(), \"Date\"]\n",
    "\n",
    "# Create columns for \"Before Holiday\", \"During Holiday\", \"After Holiday\"\n",
    "df[\"HolidayPeriod\"] = \"Normal\"\n",
    "for holiday in holiday_dates:\n",
    "    df.loc[df[\"Date\"] == holiday, \"HolidayPeriod\"] = \"During Holiday\"\n",
    "    df.loc[df[\"Date\"] == holiday - pd.Timedelta(days=1), \"HolidayPeriod\"] = \"Before Holiday\"\n",
    "    df.loc[df[\"Date\"] == holiday + pd.Timedelta(days=1), \"HolidayPeriod\"] = \"After Holiday\"\n",
    "\n",
    "# Analyze sales behavior\n",
    "behavior_summary = df.groupby(\"HolidayPeriod\")[\"Sales\"].agg([\"mean\", \"sum\", \"median\"])\n",
    "\n",
    "print(behavior_summary)"
   ]
  },
  {
   "cell_type": "code",
   "execution_count": 20,
   "metadata": {},
   "outputs": [
    {
     "data": {
      "text/html": [
       "<div>\n",
       "<style scoped>\n",
       "    .dataframe tbody tr th:only-of-type {\n",
       "        vertical-align: middle;\n",
       "    }\n",
       "\n",
       "    .dataframe tbody tr th {\n",
       "        vertical-align: top;\n",
       "    }\n",
       "\n",
       "    .dataframe thead th {\n",
       "        text-align: right;\n",
       "    }\n",
       "</style>\n",
       "<table border=\"1\" class=\"dataframe\">\n",
       "  <thead>\n",
       "    <tr style=\"text-align: right;\">\n",
       "      <th></th>\n",
       "      <th>Store</th>\n",
       "      <th>DayOfWeek</th>\n",
       "      <th>Date</th>\n",
       "      <th>Sales</th>\n",
       "      <th>Customers</th>\n",
       "      <th>Open</th>\n",
       "      <th>Promo</th>\n",
       "      <th>StateHoliday</th>\n",
       "      <th>SchoolHoliday</th>\n",
       "      <th>HolidayPeriod</th>\n",
       "    </tr>\n",
       "  </thead>\n",
       "  <tbody>\n",
       "    <tr>\n",
       "      <th>0</th>\n",
       "      <td>1</td>\n",
       "      <td>5</td>\n",
       "      <td>2015-07-31</td>\n",
       "      <td>5263</td>\n",
       "      <td>555</td>\n",
       "      <td>1</td>\n",
       "      <td>1</td>\n",
       "      <td>None</td>\n",
       "      <td>1</td>\n",
       "      <td>Normal</td>\n",
       "    </tr>\n",
       "    <tr>\n",
       "      <th>1</th>\n",
       "      <td>2</td>\n",
       "      <td>5</td>\n",
       "      <td>2015-07-31</td>\n",
       "      <td>6064</td>\n",
       "      <td>625</td>\n",
       "      <td>1</td>\n",
       "      <td>1</td>\n",
       "      <td>None</td>\n",
       "      <td>1</td>\n",
       "      <td>Normal</td>\n",
       "    </tr>\n",
       "    <tr>\n",
       "      <th>2</th>\n",
       "      <td>3</td>\n",
       "      <td>5</td>\n",
       "      <td>2015-07-31</td>\n",
       "      <td>8314</td>\n",
       "      <td>821</td>\n",
       "      <td>1</td>\n",
       "      <td>1</td>\n",
       "      <td>None</td>\n",
       "      <td>1</td>\n",
       "      <td>Normal</td>\n",
       "    </tr>\n",
       "    <tr>\n",
       "      <th>3</th>\n",
       "      <td>4</td>\n",
       "      <td>5</td>\n",
       "      <td>2015-07-31</td>\n",
       "      <td>13995</td>\n",
       "      <td>1498</td>\n",
       "      <td>1</td>\n",
       "      <td>1</td>\n",
       "      <td>None</td>\n",
       "      <td>1</td>\n",
       "      <td>Normal</td>\n",
       "    </tr>\n",
       "    <tr>\n",
       "      <th>4</th>\n",
       "      <td>5</td>\n",
       "      <td>5</td>\n",
       "      <td>2015-07-31</td>\n",
       "      <td>4822</td>\n",
       "      <td>559</td>\n",
       "      <td>1</td>\n",
       "      <td>1</td>\n",
       "      <td>None</td>\n",
       "      <td>1</td>\n",
       "      <td>Normal</td>\n",
       "    </tr>\n",
       "  </tbody>\n",
       "</table>\n",
       "</div>"
      ],
      "text/plain": [
       "   Store  DayOfWeek       Date  Sales  Customers  Open  Promo StateHoliday  \\\n",
       "0      1          5 2015-07-31   5263        555     1      1         None   \n",
       "1      2          5 2015-07-31   6064        625     1      1         None   \n",
       "2      3          5 2015-07-31   8314        821     1      1         None   \n",
       "3      4          5 2015-07-31  13995       1498     1      1         None   \n",
       "4      5          5 2015-07-31   4822        559     1      1         None   \n",
       "\n",
       "   SchoolHoliday HolidayPeriod  \n",
       "0              1        Normal  \n",
       "1              1        Normal  \n",
       "2              1        Normal  \n",
       "3              1        Normal  \n",
       "4              1        Normal  "
      ]
     },
     "execution_count": 20,
     "metadata": {},
     "output_type": "execute_result"
    }
   ],
   "source": [
    "df.head()"
   ]
  },
  {
   "cell_type": "code",
   "execution_count": null,
   "metadata": {},
   "outputs": [
    {
     "data": {
      "image/png": "[encoded data removed]",
      "text/plain": [
       "<Figure size 1000x600 with 1 Axes>"
      ]
     },
     "metadata": {},
     "output_type": "display_data"
    }
   ],
   "source": [
    "column=\"Sales\"\n",
    "title=\"Average Sales by State Holiday Period\"\n",
    "group_by = \"HolidayPeriod\"\n",
    "plot.plot_sales_by_period(df_state, column, title, group_by)"
   ]
  },
  {
   "cell_type": "code",
   "execution_count": null,
   "metadata": {},
   "outputs": [],
   "source": [
    "column=\"Sales\"\n",
    "title=\"Average Sales by School Holiday Period\"\n",
    "group_by = \"SchoolHolidayPeriod\"\n",
    "plot.plot_sales_by_period(df_school, column, title, group_by)"
   ]
  },
  {
   "cell_type": "code",
   "execution_count": 6,
   "metadata": {},
   "outputs": [],
   "source": [
    "# plot.check_sales_behavior_around_holidays(df_train, df_test)"
   ]
  },
  {
   "cell_type": "code",
   "execution_count": null,
   "metadata": {},
   "outputs": [],
   "source": [
    "df_train.head()"
   ]
  },
  {
   "cell_type": "code",
   "execution_count": null,
   "metadata": {},
   "outputs": [],
   "source": []
  },
  {
   "cell_type": "code",
   "execution_count": null,
   "metadata": {},
   "outputs": [],
   "source": []
  },
  {
   "cell_type": "code",
   "execution_count": null,
   "metadata": {},
   "outputs": [],
   "source": []
  },
  {
   "cell_type": "code",
   "execution_count": null,
   "metadata": {},
   "outputs": [],
   "source": []
  }
 ],
 "metadata": {
  "kernelspec": {
   "display_name": "Python 3",
   "language": "python",
   "name": "python3"
  },
  "language_info": {
   "codemirror_mode": {
    "name": "ipython",
    "version": 3
   },
   "file_extension": ".py",
   "mimetype": "text/x-python",
   "name": "python",
   "nbconvert_exporter": "python",
   "pygments_lexer": "ipython3",
   "version": "3.13.1"
  }
 },
 "nbformat": 4,
 "nbformat_minor": 2
}
